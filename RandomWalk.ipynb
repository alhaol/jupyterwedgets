{
 "cells": [
  {
   "cell_type": "markdown",
   "metadata": {},
   "source": [
    "# Snippets to Utilize Ramdom walk\n",
    "\n",
    "- Ibrahim Alhaol, PhD, SMIEEE, P.Eng\n",
    "- [Carelton University](http://www.carleton.ca), Ottawa, ON, Canada \n",
    "- SEP 2017\n"
   ]
  },
  {
   "cell_type": "code",
   "execution_count": 46,
   "metadata": {
    "collapsed": true
   },
   "outputs": [],
   "source": [
    "import random \n"
   ]
  },
  {
   "cell_type": "code",
   "execution_count": 60,
   "metadata": {
    "collapsed": false
   },
   "outputs": [],
   "source": [
    "def random_walk(n):\n",
    "    \"\"\" Return coordinates after n blocks \"\"\"\n",
    "    x,y=0,0\n",
    "    Step_options=[(0,0),(0,1),(0,-1),(1,0),(-1,0)]\n",
    "    Nu_items=1\n",
    "    Prob_dist=[1,0,0,0,0]\n",
    "    for i in range(n):\n",
    "        (dx,dy)=random.choice(Step_options,Nu_items,Prob_dist)\n",
    "        \n",
    "        x+=dx\n",
    "        y+=dy\n",
    "    return (x,y)"
   ]
  },
  {
   "cell_type": "markdown",
   "metadata": {},
   "source": [
    "``` python\n",
    "import numpy as np\n",
    "Step_options=[(0,0),(0,1),(0,-1),(1,0),(-1,0)]\n",
    "x=np.random.choice(5, 1000, p=[0.1, 0.2, 0.3, 0.3, 0.1])\n",
    "choices =[Step_options[i] for i in x]\n",
    "print(choices)\n",
    "```"
   ]
  },
  {
   "cell_type": "code",
   "execution_count": 109,
   "metadata": {
    "collapsed": false
   },
   "outputs": [],
   "source": [
    "import numpy as np\n",
    "from functools import reduce\n",
    "prop=[0.1, 0.2, 0.3, 0.3, 0.1]\n",
    "Step_options=[(0,0),(0,1),(0,-1),(1,0),(-1,0)]\n",
    "Start_point=[0,4]\n",
    "N_steps=5\n",
    "def random_walk(prop,Step_options,N_steps, Start_point):\n",
    "    x=np.random.choice(len(prop), N_steps, p=prop)\n",
    "    Steps =[Step_options[i] for i in x]\n",
    "    Current_Loc=reduce(lambda x,y: [x[0]+y[0],x[1]+y[1]],Steps)\n",
    "    Current_Loc[0]=Current_Loc[0]+Start_point[0]\n",
    "    Current_Loc[1]=Current_Loc[1]+Start_point[1]\n",
    "    return Steps, Current_Loc\n",
    "    "
   ]
  },
  {
   "cell_type": "markdown",
   "metadata": {},
   "source": [
    "```\n",
    "No language indicated, so no syntax highlighting. \n",
    "But let's throw in a <b>tag</b>.\n",
    "```"
   ]
  },
  {
   "cell_type": "code",
   "execution_count": 110,
   "metadata": {
    "collapsed": false
   },
   "outputs": [],
   "source": [
    "Steps, Current_Loc=random_walk(prop,Step_options,N_steps, Start_point)"
   ]
  },
  {
   "cell_type": "code",
   "execution_count": 111,
   "metadata": {
    "collapsed": false
   },
   "outputs": [
    {
     "data": {
      "text/plain": [
       "[(0, -1), (0, -1), (0, -1), (0, -1), (1, 0)]"
      ]
     },
     "execution_count": 111,
     "metadata": {},
     "output_type": "execute_result"
    }
   ],
   "source": [
    "Steps"
   ]
  },
  {
   "cell_type": "code",
   "execution_count": 112,
   "metadata": {
    "collapsed": false,
    "scrolled": true
   },
   "outputs": [
    {
     "data": {
      "text/plain": [
       "[1, 0]"
      ]
     },
     "execution_count": 112,
     "metadata": {},
     "output_type": "execute_result"
    }
   ],
   "source": [
    "Current_Loc"
   ]
  },
  {
   "cell_type": "code",
   "execution_count": null,
   "metadata": {
    "collapsed": true
   },
   "outputs": [],
   "source": [
    "# This Snippet "
   ]
  },
  {
   "cell_type": "code",
   "execution_count": 30,
   "metadata": {
    "collapsed": false
   },
   "outputs": [],
   "source": [
    "import pdb\n",
    "import copy\n",
    "import numpy as np\n",
    "from functools import reduce\n",
    "prop=[0.2, 0.2, 0.2, 0.2, 0.2]\n",
    "Step_options=[(0,0),(0,1),(0,1),(0,-1),(0,1)]\n",
    "Start_point=[0,4]\n",
    "End_point=[0,10]\n",
    "N_steps=5\n",
    "def random_walk(prop,Step_options,N_steps, Start_point, End_point):\n",
    "    Current_Loc=copy.copy(Start_point)\n",
    "    Path_steps=[]\n",
    "    while (End_point!=Current_Loc):\n",
    "        x=np.random.choice(len(prop), 1, p=prop)[0]\n",
    "        Step =list(Step_options[x])\n",
    "        #pdb.set_trace()\n",
    "        Path_steps.append(Step_options[x])\n",
    "        Current_Loc[0]=Current_Loc[0]+Step[0]\n",
    "        Current_Loc[1]=Current_Loc[1]+Step[1]\n",
    "    return Path_steps, Current_Loc"
   ]
  },
  {
   "cell_type": "code",
   "execution_count": 31,
   "metadata": {
    "collapsed": false
   },
   "outputs": [],
   "source": [
    "Path_steps, Current_Loc=random_walk(prop,Step_options,N_steps, Start_point, End_point)"
   ]
  },
  {
   "cell_type": "code",
   "execution_count": 32,
   "metadata": {
    "collapsed": false
   },
   "outputs": [
    {
     "name": "stdout",
     "output_type": "stream",
     "text": [
      "Original Loction =[0, 4]\n",
      "\n",
      "Path_steps =[(0, 1), (0, 1), (0, 0), (0, 1), (0, 0), (0, 0), (0, 1), (0, 1), (0, 1)]\n",
      "\n",
      "Current Loction =[0, 10]\n",
      "\n"
     ]
    }
   ],
   "source": [
    "print ('Original Loction ={}\\n'.format(Start_point))\n",
    "print ('Path_steps ={}\\n'.format(Path_steps))\n",
    "print ('Current Loction ={}\\n'.format(Current_Loc))"
   ]
  },
  {
   "cell_type": "markdown",
   "metadata": {},
   "source": [
    "```python \n",
    "\n",
    "import pdb\n",
    "import copy\n",
    "import numpy as np\n",
    "from functools import reduce\n",
    "prop=[0.2, 0.2, 0.2, 0.2, 0.2]\n",
    "Step_options=[(0,0),(0,1),(0,1),(0,-1),(0,1)]\n",
    "Start_point=[0,4]\n",
    "End_point=[0,10]\n",
    "N_steps=5\n",
    "def random_walk(prop,Step_options,N_steps, Start_point, End_point):\n",
    "    Current_Loc=copy.copy(Start_point)\n",
    "    Path_steps=[]\n",
    "    while (End_point!=Current_Loc):\n",
    "        x=np.random.choice(len(prop), 1, p=prop)[0]\n",
    "        Step =list(Step_options[x])\n",
    "        #pdb.set_trace()\n",
    "        Path_steps.append(Step_options[x])\n",
    "        Current_Loc[0]=Current_Loc[0]+Step[0]\n",
    "        Current_Loc[1]=Current_Loc[1]+Step[1]\n",
    "    return Path_steps, Current_Loc\n",
    "    \n",
    "Path_steps, Current_Loc=random_walk(prop,Step_options,N_steps, Start_point, End_point) \n",
    "print ('Original Loction ={}\\n'.format(Start_point))\n",
    "print ('Path_steps ={}\\n'.format(Path_steps))\n",
    "print ('Current Loction ={}\\n'.format(Current_Loc))\n",
    "```"
   ]
  },
  {
   "cell_type": "code",
   "execution_count": null,
   "metadata": {
    "collapsed": true
   },
   "outputs": [],
   "source": []
  }
 ],
 "metadata": {
  "anaconda-cloud": {},
  "kernelspec": {
   "display_name": "Python [conda root]",
   "language": "python",
   "name": "conda-root-py"
  },
  "language_info": {
   "codemirror_mode": {
    "name": "ipython",
    "version": 2
   },
   "file_extension": ".py",
   "mimetype": "text/x-python",
   "name": "python",
   "nbconvert_exporter": "python",
   "pygments_lexer": "ipython2",
   "version": "2.7.12"
  }
 },
 "nbformat": 4,
 "nbformat_minor": 1
}
